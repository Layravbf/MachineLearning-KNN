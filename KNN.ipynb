{
  "nbformat": 4,
  "nbformat_minor": 0,
  "metadata": {
    "kernelspec": {
      "display_name": "Python 3",
      "language": "python",
      "name": "python3"
    },
    "language_info": {
      "codemirror_mode": {
        "name": "ipython",
        "version": 3
      },
      "file_extension": ".py",
      "mimetype": "text/x-python",
      "name": "python",
      "nbconvert_exporter": "python",
      "pygments_lexer": "ipython3",
      "version": "3.8.5"
    },
    "colab": {
      "name": "KNN.ipynb",
      "provenance": [],
      "include_colab_link": true
    }
  },
  "cells": [
    {
      "cell_type": "markdown",
      "metadata": {
        "id": "view-in-github",
        "colab_type": "text"
      },
      "source": [
        "<a href=\"https://colab.research.google.com/github/Layravbf/MachineLearning-KNN/blob/main/KNN.ipynb\" target=\"_parent\"><img src=\"https://colab.research.google.com/assets/colab-badge.svg\" alt=\"Open In Colab\"/></a>"
      ]
    },
    {
      "cell_type": "code",
      "metadata": {
        "id": "QKI2LQ6BKGXw"
      },
      "source": [
        "import pandas as pd\n",
        "import matplotlib.pyplot as plt\n",
        "from sklearn import datasets"
      ],
      "execution_count": null,
      "outputs": []
    },
    {
      "cell_type": "code",
      "metadata": {
        "id": "Oygrwo5vKGXz",
        "outputId": "c4b7d2a4-ed62-4eb9-d1a2-b0b73d55e8f0"
      },
      "source": [
        "iris = datasets.load_iris()\n",
        "\n",
        "df = pd.DataFrame(data=iris.data, columns=iris.feature_names)\n",
        "df['target'] = iris.target\n",
        "df.head()"
      ],
      "execution_count": null,
      "outputs": [
        {
          "data": {
            "text/html": [
              "<div>\n",
              "<style scoped>\n",
              "    .dataframe tbody tr th:only-of-type {\n",
              "        vertical-align: middle;\n",
              "    }\n",
              "\n",
              "    .dataframe tbody tr th {\n",
              "        vertical-align: top;\n",
              "    }\n",
              "\n",
              "    .dataframe thead th {\n",
              "        text-align: right;\n",
              "    }\n",
              "</style>\n",
              "<table border=\"1\" class=\"dataframe\">\n",
              "  <thead>\n",
              "    <tr style=\"text-align: right;\">\n",
              "      <th></th>\n",
              "      <th>sepal length (cm)</th>\n",
              "      <th>sepal width (cm)</th>\n",
              "      <th>petal length (cm)</th>\n",
              "      <th>petal width (cm)</th>\n",
              "      <th>target</th>\n",
              "    </tr>\n",
              "  </thead>\n",
              "  <tbody>\n",
              "    <tr>\n",
              "      <th>0</th>\n",
              "      <td>5.1</td>\n",
              "      <td>3.5</td>\n",
              "      <td>1.4</td>\n",
              "      <td>0.2</td>\n",
              "      <td>0</td>\n",
              "    </tr>\n",
              "    <tr>\n",
              "      <th>1</th>\n",
              "      <td>4.9</td>\n",
              "      <td>3.0</td>\n",
              "      <td>1.4</td>\n",
              "      <td>0.2</td>\n",
              "      <td>0</td>\n",
              "    </tr>\n",
              "    <tr>\n",
              "      <th>2</th>\n",
              "      <td>4.7</td>\n",
              "      <td>3.2</td>\n",
              "      <td>1.3</td>\n",
              "      <td>0.2</td>\n",
              "      <td>0</td>\n",
              "    </tr>\n",
              "    <tr>\n",
              "      <th>3</th>\n",
              "      <td>4.6</td>\n",
              "      <td>3.1</td>\n",
              "      <td>1.5</td>\n",
              "      <td>0.2</td>\n",
              "      <td>0</td>\n",
              "    </tr>\n",
              "    <tr>\n",
              "      <th>4</th>\n",
              "      <td>5.0</td>\n",
              "      <td>3.6</td>\n",
              "      <td>1.4</td>\n",
              "      <td>0.2</td>\n",
              "      <td>0</td>\n",
              "    </tr>\n",
              "  </tbody>\n",
              "</table>\n",
              "</div>"
            ],
            "text/plain": [
              "   sepal length (cm)  sepal width (cm)  petal length (cm)  petal width (cm)  \\\n",
              "0                5.1               3.5                1.4               0.2   \n",
              "1                4.9               3.0                1.4               0.2   \n",
              "2                4.7               3.2                1.3               0.2   \n",
              "3                4.6               3.1                1.5               0.2   \n",
              "4                5.0               3.6                1.4               0.2   \n",
              "\n",
              "   target  \n",
              "0       0  \n",
              "1       0  \n",
              "2       0  \n",
              "3       0  \n",
              "4       0  "
            ]
          },
          "execution_count": 2,
          "metadata": {},
          "output_type": "execute_result"
        }
      ]
    },
    {
      "cell_type": "code",
      "metadata": {
        "id": "R_mpQSm2KGX0"
      },
      "source": [
        "lista = df.values.tolist()\n",
        "# lista"
      ],
      "execution_count": null,
      "outputs": []
    },
    {
      "cell_type": "code",
      "metadata": {
        "id": "DUAsAXwCKGX0"
      },
      "source": [
        "def countclasses(lista):\n",
        "    setosa=0\n",
        "    versicolor=0\n",
        "    virginica=0\n",
        "    for i in range(len(lista)):\n",
        "        if lista[i][4] == 0.0:\n",
        "            setosa += 1\n",
        "        if lista[i][4] == 1.0:\n",
        "            versicolor += 1\n",
        "        if lista[i][4] == 2.0:\n",
        "            virginica += 1\n",
        "    \n",
        "    return [setosa,versicolor,virginica]"
      ],
      "execution_count": null,
      "outputs": []
    },
    {
      "cell_type": "code",
      "metadata": {
        "id": "XHY9f0_fKGX2",
        "outputId": "d32c3a8e-0ba7-4b8d-8027-c445bfbfdd3c"
      },
      "source": [
        "setosa,versicolor, virginica = countclasses(lista)\n",
        "print('Setosa:',setosa)\n",
        "print('Versicolor:',versicolor)\n",
        "print('Virginica:',virginica)"
      ],
      "execution_count": null,
      "outputs": [
        {
          "name": "stdout",
          "output_type": "stream",
          "text": [
            "Setosa: 50\n",
            "Versicolor: 50\n",
            "Virginica: 50\n"
          ]
        }
      ]
    },
    {
      "cell_type": "code",
      "metadata": {
        "id": "GkERjzJOKGX3"
      },
      "source": [
        "p=0.6\n",
        "setosa,versicolor, virginica = countclasses(lista)\n",
        "treinamento, teste= [], []\n",
        "max_setosa, max_versicolor, max_virginica = int(p*setosa), int(p*versicolor), int(p*virginica)\n",
        "total1 =0\n",
        "total2 =0\n",
        "total3 =0\n",
        "for lis in lista:\n",
        "    if lis[-1]==0.0 and total1< max_setosa:\n",
        "        treinamento.append(lis)\n",
        "        total1 +=1\n",
        "    elif lis[-1]==1.0 and total2<max_versicolor:\n",
        "        treinamento.append(lis)\n",
        "        total2 +=1\n",
        "    elif lis[-1]==2.0 and total3<max_virginica:\n",
        "        treinamento.append(lis)\n",
        "        total3 +=1\n",
        "    else:\n",
        "        teste.append(lis)"
      ],
      "execution_count": null,
      "outputs": []
    },
    {
      "cell_type": "code",
      "metadata": {
        "id": "1M8LZzeUKGX3"
      },
      "source": [
        "import math\n",
        "def dist_euclidiana(v1,v2):\n",
        "    dim, soma = len(v1), 0\n",
        "    for i in range(dim -1):\n",
        "        soma += math.pow(v1[i] -v2[i],2)\n",
        "    return math.sqrt(soma)"
      ],
      "execution_count": null,
      "outputs": []
    },
    {
      "cell_type": "code",
      "metadata": {
        "id": "cyrncZ2eKGX4"
      },
      "source": [
        "def knn(treinamento, nova_amostra, K):\n",
        "    dists, len_treino = {}, len(treinamento)\n",
        "    \n",
        "    for i in range(len_treino):\n",
        "        d= dist_euclidiana(treinamento[i], nova_amostra)\n",
        "        dists[i] = d\n",
        "    \n",
        "    k_vizinhos = sorted(dists, key= dists.get)[:K]\n",
        "\n",
        "    qtd_setosa, qtd_versicolor, qtd_virginica = 0, 0, 0\n",
        "    for indice in k_vizinhos: \n",
        "        if treinamento[indice][-1] ==0.0:\n",
        "            qtd_setosa +=1\n",
        "        elif treinamento[indice][-1] ==1.0:\n",
        "            qtd_versicolor +=1\n",
        "        else:\n",
        "            qtd_virginica +=1\n",
        "    a=[qtd_setosa, qtd_versicolor, qtd_virginica]\n",
        "    return a.index(max(a))"
      ],
      "execution_count": null,
      "outputs": []
    },
    {
      "cell_type": "code",
      "metadata": {
        "id": "Kq-f1hAjKGX4",
        "outputId": "5f08f663-c05a-416c-bb92-30896e4120d9"
      },
      "source": [
        "acertos, K = 0, 70\n",
        "for amostra in teste:\n",
        "    classe = knn(treinamento, amostra, K)\n",
        "#     print(classe)\n",
        "    if amostra[-1]==classe:\n",
        "        acertos +=1\n",
        "print(\"Porcentagem de acertos:\",100*acertos/len(teste))"
      ],
      "execution_count": null,
      "outputs": [
        {
          "name": "stdout",
          "output_type": "stream",
          "text": [
            "Porcentagem de acertos: 65.0\n"
          ]
        }
      ]
    },
    {
      "cell_type": "code",
      "metadata": {
        "id": "llsrqSIvKGX5",
        "outputId": "ab1628d2-756c-41b5-b091-683de4ef2b96"
      },
      "source": [
        "import seaborn as sns\n",
        " \n",
        "iris = sns.load_dataset('iris')\n",
        " \n",
        "# style used as a theme of graph\n",
        "# for example if we want black\n",
        "# graph with grid then write \"darkgrid\"\n",
        "sns.set_style(\"whitegrid\")\n",
        " \n",
        "# sepal_length, petal_length are iris\n",
        "# feature data height used to define\n",
        "# Height of graph whereas hue store the\n",
        "# class of iris dataset.\n",
        "sns.FacetGrid(iris, hue =\"species\",\n",
        "              height = 6).map(plt.scatter,\n",
        "                              'sepal_length',\n",
        "                              'petal_length').add_legend()"
      ],
      "execution_count": null,
      "outputs": [
        {
          "data": {
            "text/plain": [
              "<seaborn.axisgrid.FacetGrid at 0x233cc701e50>"
            ]
          },
          "execution_count": 10,
          "metadata": {},
          "output_type": "execute_result"
        },
        {
          "data": {
            "image/png": "[encoded data removed]",
            "text/plain": [
              "<Figure size 511.125x432 with 1 Axes>"
            ]
          },
          "metadata": {},
          "output_type": "display_data"
        }
      ]
    },
    {
      "cell_type": "code",
      "metadata": {
        "id": "YpOzySf0KGX5",
        "outputId": "1d3c5ca5-d06c-4426-d5dd-ada26efabeb6"
      },
      "source": [
        "import seaborn as sns\n",
        "sns.FacetGrid(df, height=6,hue=\"target\").map(plt.scatter,\"sepal length (cm)\",\"sepal width (cm)\").add_legend(labels=['setosa', 'versicolor', 'virginica'])\n",
        "sns.FacetGrid(df, height=6,hue=\"target\").map(plt.scatter,\"petal length (cm)\",\"petal width (cm)\").add_legend(labels=['setosa', 'versicolor', 'virginica'])"
      ],
      "execution_count": null,
      "outputs": [
        {
          "name": "stderr",
          "output_type": "stream",
          "text": [
            "C:\\Users\\layra\\anaconda3\\lib\\site-packages\\seaborn\\axisgrid.py:132: UserWarning: You have mixed positional and keyword arguments, some input may be discarded.\n",
            "  figlegend = self.fig.legend(handles, labels, **kwargs)\n",
            "C:\\Users\\layra\\anaconda3\\lib\\site-packages\\seaborn\\axisgrid.py:132: UserWarning: You have mixed positional and keyword arguments, some input may be discarded.\n",
            "  figlegend = self.fig.legend(handles, labels, **kwargs)\n"
          ]
        },
        {
          "data": {
            "text/plain": [
              "<seaborn.axisgrid.FacetGrid at 0x233ccdc7fd0>"
            ]
          },
          "execution_count": 19,
          "metadata": {},
          "output_type": "execute_result"
        },
        {
          "data": {
            "image/png": "[encoded data removed]",
            "text/plain": [
              "<Figure size 511.125x432 with 1 Axes>"
            ]
          },
          "metadata": {},
          "output_type": "display_data"
        },
        {
          "data": {
            "image/png": "[encoded data removed]",
            "text/plain": [
              "<Figure size 511.125x432 with 1 Axes>"
            ]
          },
          "metadata": {},
          "output_type": "display_data"
        }
      ]
    },
    {
      "cell_type": "code",
      "metadata": {
        "id": "_mmJkuN9KGX6"
      },
      "source": [
        ""
      ],
      "execution_count": null,
      "outputs": []
    }
  ]
}